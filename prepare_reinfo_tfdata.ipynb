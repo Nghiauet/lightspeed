{
  "cells": [
    {
      "cell_type": "markdown",
      "metadata": {},
      "source": [
        "The infore dataset has disappeared from most sources; I found the data at https://github.com/undertheseanlp/NLP-Vietnamese-progress/blob/master/tasks/text_to_speech.md. It looks like it could be different from the original dataset, as https://github.com/NTT123/vietTTS seems to have code for aligning and denoising, while the data provided by underthesea seems to already be aligned."
      ]
    },
    {
      "cell_type": "code",
      "execution_count": 51,
      "metadata": {
        "id": "AYcSUVSG1_G3"
      },
      "outputs": [
        {
          "name": "stdout",
          "output_type": "stream",
          "text": [
            "[WinError 2] The system cannot find the file specified: 'data'\n",
            "d:\\UROP-MAIL\\light-speed\\data\n"
          ]
        },
        {
          "data": {
            "text/plain": [
              "'d:\\\\UROP-MAIL\\\\light-speed\\\\data'"
            ]
          },
          "execution_count": 51,
          "metadata": {},
          "output_type": "execute_result"
        }
      ],
      "source": [
        "%cd data\n",
        "%pwd"
      ]
    },
    {
      "cell_type": "code",
      "execution_count": 52,
      "metadata": {
        "id": "p58RNMt8CISF"
      },
      "outputs": [],
      "source": [
        "import json\n",
        "from pathlib import Path\n",
        "import numpy as np\n",
        "import torch\n",
        "import json\n",
        "import librosa\n",
        "import tensorflow as tf\n",
        "from tqdm.auto import tqdm\n",
        "import random\n",
        "import textgrid"
      ]
    },
    {
      "cell_type": "code",
      "execution_count": 53,
      "metadata": {
        "id": "YbF8kuar0zuC"
      },
      "outputs": [],
      "source": [
        "mel_basis = {}\n",
        "hann_window = {}\n",
        "\n",
        "def spectrogram_torch(y, n_fft, sampling_rate, hop_size, win_size, center=False):\n",
        "    global hann_window\n",
        "    if torch.min(y) < -1.0:\n",
        "        print(\"min value is \", torch.min(y))\n",
        "    if torch.max(y) > 1.0:\n",
        "        print(\"max value is \", torch.max(y))\n",
        "\n",
        "    dtype_device = str(y.dtype) + \"_\" + str(y.device)\n",
        "    wnsize_dtype_device = str(win_size) + \"_\" + dtype_device\n",
        "    if wnsize_dtype_device not in hann_window:\n",
        "        hann_window[wnsize_dtype_device] = torch.hann_window(win_size).to(\n",
        "            dtype=y.dtype, device=y.device\n",
        "        )\n",
        "\n",
        "    y = torch.nn.functional.pad(\n",
        "        y.unsqueeze(1),\n",
        "        (int((n_fft - hop_size) / 2), int((n_fft - hop_size) / 2)),\n",
        "        mode=\"reflect\",\n",
        "    )\n",
        "    y = y.squeeze(1)\n",
        "\n",
        "    spec = torch.stft(\n",
        "        y,\n",
        "        n_fft,\n",
        "        hop_length=hop_size,\n",
        "        win_length=win_size,\n",
        "        window=hann_window[wnsize_dtype_device],\n",
        "        center=center,\n",
        "        pad_mode=\"reflect\",\n",
        "        normalized=False,\n",
        "        onesided=True,\n",
        "        return_complex=True\n",
        "    )\n",
        "    spec = torch.view_as_real(spec)\n",
        "    spec = torch.sqrt(spec.pow(2).sum(-1) + 1e-6)\n",
        "    spec = spec.squeeze(0)\n",
        "    return torch.swapaxes(spec, 0, 1)\n",
        "\n",
        "\n",
        "def tensor_to_bytes(t):\n",
        "    t = tf.constant(t)\n",
        "    t = tf.io.serialize_tensor(t)\n",
        "    return tf.train.Feature(bytes_list=tf.train.BytesList(value=[t.numpy()]))\n",
        "\n",
        "\n",
        "def write_tfdata(data, out_file, config, phone_set):\n",
        "    with tf.io.TFRecordWriter(out_file) as file_writer:\n",
        "        for wav_file, seq, _ in data:\n",
        "            phone_seq = []\n",
        "            for phone, duration in seq:\n",
        "                phone_idx = phone_set.index(phone)\n",
        "                phone_seq.append((phone_idx, duration))\n",
        "            phone_seq = np.array(phone_seq, dtype=np.float32)\n",
        "\n",
        "            # load wav\n",
        "            wav, sr = librosa.load(wav_file, sr=config[\"data\"][\"sampling_rate\"], dtype=np.float32)\n",
        "            wav = torch.from_numpy(wav)\n",
        "            # compute spec\n",
        "            spec = spectrogram_torch(\n",
        "                wav[None],\n",
        "                n_fft=config[\"data\"][\"filter_length\"],\n",
        "                sampling_rate=config[\"data\"][\"sampling_rate\"],\n",
        "                hop_size=config[\"data\"][\"hop_length\"],\n",
        "                win_size=config[\"data\"][\"win_length\"],\n",
        "                center=False\n",
        "            )\n",
        "\n",
        "            features = {\n",
        "                \"phone_idx\": tensor_to_bytes(phone_seq[:, 0].astype(np.int32)),\n",
        "                \"phone_duration\": tensor_to_bytes(phone_seq[:, 1]),\n",
        "                \"wav\": tensor_to_bytes(wav.half().numpy()),\n",
        "                \"spec\": tensor_to_bytes(spec.half().numpy())\n",
        "            }\n",
        "            example = tf.train.Example(features=tf.train.Features(feature=features))\n",
        "            file_writer.write(example.SerializeToString())\n",
        "\n",
        "def write_split(split, data, num_chunks, config, phone_set):\n",
        "    print(f\"Writing to reinfo_tfdata/{split}/part_*.tfrecords\")\n",
        "    data = np.array(data, dtype=object)\n",
        "    chunks = list(np.array_split(data, num_chunks))\n",
        "    for i, chunk in enumerate(tqdm(chunks)):\n",
        "        write_tfdata(chunk, f\"reinfo_tfdata/{split}/part_{i:03d}.tfrecords\", config, phone_set)"
      ]
    },
    {
      "cell_type": "code",
      "execution_count": 54,
      "metadata": {
        "id": "UIAxgVx-DkRI"
      },
      "outputs": [
        {
          "name": "stderr",
          "output_type": "stream",
          "text": [
            "A subdirectory or file reinfo_tfdata\\train already exists.\n",
            "Error occurred while processing: reinfo_tfdata\\train.\n",
            "A subdirectory or file reinfo_tfdata\\test already exists.\n",
            "Error occurred while processing: reinfo_tfdata\\test.\n"
          ]
        }
      ],
      "source": [
        "!mkdir reinfo_tfdata\\train, reinfo_tfdata\\test"
      ]
    },
    {
      "cell_type": "code",
      "execution_count": 55,
      "metadata": {},
      "outputs": [],
      "source": [
        "with open(\"../config.json\", \"rb\") as f:\n",
        "    config = json.load(f)\n",
        "device = \"cuda\" if torch.cuda.is_available() else \"cpu\"\n",
        "\n",
        "data_dir = Path(\"./reinfo\")\n",
        "\n",
        "\n",
        "textgrid_files = sorted(data_dir.glob(\"*.TextGrid\"))\n",
        "dataset = []\n",
        "phone_set = []\n",
        "\n",
        "for file_path in textgrid_files:\n",
        "    data = textgrid.TextGrid.fromFile(file_path)\n",
        "    seq = []\n",
        "    word_index = 0\n",
        "    words = data[0][:]\n",
        "    for word in words:\n",
        "        if word.mark == \"\":\n",
        "            word.mark = \"<eps>\" #To be consistent with MFA outputs, which is used to align LJSpeech. <eps> is used to represent silence\n",
        "    for phone in data[1][:]:\n",
        "        start, end, phone = phone.minTime, phone.maxTime, phone.mark\n",
        "        if start > words[word_index].maxTime - 1e-5:\n",
        "            seq.append( (\"<SEP>\", 0) )\n",
        "            word_index += 1\n",
        "        duration = end * 1000 - start * 1000 # ms\n",
        "        phone_set.append(phone)\n",
        "        seq.append( (phone, duration) )\n",
        "    wav_file = file_path.with_suffix(\".wav\")\n",
        "    dataset.append((wav_file, seq, data.maxTime))\n",
        "\n",
        "phone_set = [\"<SEP>\"] + sorted(set(phone_set))\n",
        "assert len(phone_set) <= 256\n",
        "with open(\"reinfo_phone_set.json\", \"w\", encoding=\"utf-8\") as f:\n",
        "    json.dump(phone_set, f)\n",
        "\n",
        "assert phone_set.index(\"<SEP>\") == 0"
      ]
    },
    {
      "cell_type": "code",
      "execution_count": 56,
      "metadata": {
        "id": "2d86zvZBD0r6"
      },
      "outputs": [
        {
          "name": "stdout",
          "output_type": "stream",
          "text": [
            "Train data size: 14668\n",
            "Test data size: 256\n"
          ]
        }
      ],
      "source": [
        "random.Random(42).shuffle(dataset)\n",
        "L = len(dataset) - 256\n",
        "train_data = dataset[:L]\n",
        "test_data = dataset[L:]\n",
        "print(\"Train data size:\", len(train_data))\n",
        "print(\"Test data size:\", len(test_data))"
      ]
    },
    {
      "cell_type": "code",
      "execution_count": 57,
      "metadata": {
        "id": "UnDTA1sKD9Ug"
      },
      "outputs": [
        {
          "name": "stdout",
          "output_type": "stream",
          "text": [
            "Writing to reinfo_tfdata/test/part_*.tfrecords\n"
          ]
        },
        {
          "name": "stderr",
          "output_type": "stream",
          "text": [
            "100%|██████████| 1/1 [00:01<00:00,  1.95s/it]\n"
          ]
        }
      ],
      "source": [
        "write_split(\"test\", test_data, 1, config, phone_set)"
      ]
    },
    {
      "cell_type": "code",
      "execution_count": 58,
      "metadata": {
        "id": "JdG7lqdEEQNz"
      },
      "outputs": [
        {
          "name": "stdout",
          "output_type": "stream",
          "text": [
            "Writing to reinfo_tfdata/train/part_*.tfrecords\n"
          ]
        },
        {
          "name": "stderr",
          "output_type": "stream",
          "text": [
            "100%|██████████| 100/100 [01:53<00:00,  1.14s/it]\n"
          ]
        }
      ],
      "source": [
        "write_split(\"train\", train_data, 100, config, phone_set)"
      ]
    }
  ],
  "metadata": {
    "accelerator": "TPU",
    "colab": {
      "machine_shape": "hm",
      "provenance": []
    },
    "kernelspec": {
      "display_name": "Python 3",
      "name": "python3"
    },
    "language_info": {
      "codemirror_mode": {
        "name": "ipython",
        "version": 3
      },
      "file_extension": ".py",
      "mimetype": "text/x-python",
      "name": "python",
      "nbconvert_exporter": "python",
      "pygments_lexer": "ipython3",
      "version": "3.10.8"
    }
  },
  "nbformat": 4,
  "nbformat_minor": 0
}
